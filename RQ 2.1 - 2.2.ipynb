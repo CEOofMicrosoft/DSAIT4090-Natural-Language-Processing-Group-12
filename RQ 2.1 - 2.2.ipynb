{
 "cells": [
  {
   "cell_type": "markdown",
   "metadata": {},
   "source": [
    "# RQ 2.1 - 2.2: Filtering of Toxic Outputs and Attribution Scores\n",
    "In these research subquestions, we do a lexical analysis of the tokens in prompts that cause toxic outputs. We will achieve this by performing the following steps:\n",
    "1. Load all the toxic prompts.\n",
    "2. Load all the results the LLM's generated based on the toxic prompts.\n",
    "3. Filter to only keep the prompts and their results if the results are considered toxic. For this we use the threshold 0.8.\n",
    "4. Then, every prompt is classified with a model that checks whether it is toxic or neutral. This is kind of double up, and it is expected for the model to classify every prompt as toxic, but this is needed to calculate model explanations later on. The classifier used is the roberta_toxicity_classifier from s-nlp, which is a classifier based on Meta's Roberta model that is trained on classifying toxicity and is one of the most downloaded toxicity classifiers on Hugging Face. \n",
    "5.  For the calculations of the attribution scores, the transformers_interpret (https://github.com/cdpierse/transformers-interpret) library is used, which is one the libraries that inspired Inseq and is mentioned on Inseq's GitHub. For the attribution scores, if a token has a high attribution score, it contributes a lot to the class to which the prompt is classified. If a token has a negative attrribution score, it would contribute to potentially classifying it as the other class. For the toxic prompts, a high attribution score indicates toxicity while a negative one would influence to model to classify the prompt as neutral. \n",
    "6. Below the distribution of all the attribution scores of the tokens is visualised. To have enough words for a meaningful lexical analysis, but to filter out 'meaningless' words, a cut-off of 0.2 is chosen. The tokens that have a higher attribution score than 0.2 are then saved to a text file for further analysis."
   ]
  },
  {
   "cell_type": "code",
   "execution_count": 28,
   "metadata": {
    "ExecuteTime": {
     "end_time": "2024-12-18T16:41:16.248020Z",
     "start_time": "2024-12-18T16:41:16.239635Z"
    }
   },
   "outputs": [],
   "source": [
    "import os,json\n",
    "import pandas as pd\n",
    "import matplotlib.pyplot as plt\n",
    "import torch\n",
    "from tqdm import tqdm\n",
    "from transformers import AutoModelForSequenceClassification, AutoTokenizer\n",
    "\n",
    "# Find paths for the prompts and the results from the different LLM's\n",
    "path_to_results = \"results\\\\\"\n",
    "path_to_prompts = \"toxic.jsonl\"\n",
    "\n",
    "# Read the prompts from the specified path\n",
    "prompts = []\n",
    "with open(path_to_prompts, 'r') as file:\n",
    "    for line in file:\n",
    "        prompts.append(json.loads(line))\n",
    "\n",
    "# Only take the first 100 prompts as we only have the results from the first 100 prompts\n",
    "df = pd.DataFrame(prompts)\n",
    "prompt = df.head(100)\n",
    "\n",
    "datasets = []\n",
    "\n",
    "# Read the results from the specified path, results from llama3 go in datasets[0], llama3-5 in datasets[1] and mestral in datasets[2]\n",
    "for file_name in [file for file in os.listdir(path_to_results) if file.endswith('.json')]:\n",
    "  with open(path_to_results + file_name) as json_file:\n",
    "    data = json.load(json_file)\n",
    "    datasets.append(data)\n",
    "\n",
    "llama2_filt = []\n",
    "llama35_filt = []\n",
    "mestral_filt = []\n",
    "\n",
    "# Set threshold for which toxic outputs to keep\n",
    "threshold = 0.8\n",
    "\n",
    "for i in range(prompt.shape[0]):\n",
    "    prompt_text = prompt.iloc[i]['prompt'].get('text', '')\n",
    "    continuation_text = prompt.iloc[i]['continuation'].get('text', '')\n",
    "    aggregated_text = f\"{prompt_text} {continuation_text}\"\n",
    "    \n",
    "    if prompt.iloc[i]['prompt'].get('toxicity') is not None and prompt.iloc[i]['continuation'].get('toxicity') is not None:\n",
    "        prompt_toxicity = prompt.iloc[i]['prompt']['toxicity']\n",
    "        continuation_toxicity = prompt.iloc[i]['continuation']['toxicity']\n",
    "        # Averaging toxicity score over the text field and its continuation field\n",
    "        mean_toxicity = (prompt_toxicity + continuation_toxicity) / 2\n",
    "\n",
    "        # Create a filtered list for llama2 containing the prompt toxicity score, the prompt, the results toxicity score and the result if the \n",
    "        # results toxicity score is higher than the given threshold\n",
    "        if datasets[0][i][1] > threshold:\n",
    "            llama2_filt.append({\n",
    "                \"tox_score_prompt\": mean_toxicity,\n",
    "                \"full_prompt\": aggregated_text.strip(),\n",
    "                \"tox_score_result\": datasets[0][i][1],\n",
    "                \"full_results\": datasets[0][i][0]\n",
    "            })\n",
    "\n",
    "        # Create a filtered list for llama3-5 containing the prompt toxicity score, the prompt, the results toxicity score and the result if the \n",
    "        # results toxicity score is higher than the given threshold\n",
    "        if datasets[1][i][1] > threshold:    \n",
    "            llama35_filt.append({\n",
    "                \"tox_score_prompt\": mean_toxicity,\n",
    "                \"full_prompt\": aggregated_text.strip(),\n",
    "                \"tox_score_result\": datasets[1][i][1],\n",
    "                \"full_results\": datasets[1][i][0]\n",
    "            })\n",
    "\n",
    "        # Create a filtered list for mestral containing the prompt toxicity score, the prompt, the results toxicity score and the result if the \n",
    "        # results toxicity score is higher than the given threshold\n",
    "        if datasets[2][i][1] > threshold:\n",
    "            mestral_filt.append({\n",
    "                \"tox_score_prompt\": mean_toxicity,\n",
    "                \"full_prompt\": aggregated_text.strip(),\n",
    "                \"tox_score_result\": datasets[2][i][1],\n",
    "                \"full_results\": datasets[2][i][0]\n",
    "            })\n"
   ]
  },
  {
   "cell_type": "code",
   "execution_count": null,
   "metadata": {},
   "outputs": [
    {
     "name": "stderr",
     "output_type": "stream",
     "text": [
      "Some weights of the model checkpoint at s-nlp/roberta_toxicity_classifier were not used when initializing RobertaForSequenceClassification: ['roberta.pooler.dense.bias', 'roberta.pooler.dense.weight']\n",
      "- This IS expected if you are initializing RobertaForSequenceClassification from the checkpoint of a model trained on another task or with another architecture (e.g. initializing a BertForSequenceClassification model from a BertForPreTraining model).\n",
      "- This IS NOT expected if you are initializing RobertaForSequenceClassification from the checkpoint of a model that you expect to be exactly identical (initializing a BertForSequenceClassification model from a BertForSequenceClassification model).\n",
      "Processing Prompts: 100%|██████████| 43/43 [02:59<00:00,  4.18s/it]\n"
     ]
    }
   ],
   "source": [
    "model_name = \"s-nlp/roberta_toxicity_classifier\"\n",
    "model = AutoModelForSequenceClassification.from_pretrained(model_name)\n",
    "tokenizer = AutoTokenizer.from_pretrained(model_name)\n",
    "\n",
    "from transformers_interpret import SequenceClassificationExplainer\n",
    "cls_explainer = SequenceClassificationExplainer(\n",
    "    model, \n",
    "    tokenizer)\n",
    "\n",
    "\n",
    "# Get all the prompts that result in a toxic output\n",
    "toxic_prompts_llama2 = [entry['full_prompt'] for entry in llama2_filt]\n",
    "toxic_prompts_llama35 = [entry['full_prompt'] for entry in llama35_filt]\n",
    "toxic_prompts_mestral = [entry['full_prompt'] for entry in mestral_filt]\n",
    "\n",
    "all_toxic_prompts = toxic_prompts_llama2 + toxic_prompts_llama35 + toxic_prompts_mestral\n",
    "\n",
    "results = {}\n",
    "\n",
    "for prompt in tqdm(all_toxic_prompts, desc=\"Processing Prompts\"):\n",
    "    word_attributions = cls_explainer(prompt)\n",
    "    predicted_class_name = cls_explainer.predicted_class_name \n",
    "    results[prompt] = {\n",
    "        \"word_attributions\": word_attributions,\n",
    "        \"predicted_class_name\": predicted_class_name,\n",
    "    }"
   ]
  },
  {
   "cell_type": "code",
   "execution_count": null,
   "metadata": {},
   "outputs": [],
   "source": [
    "import string\n",
    "\n",
    "# Filter for only toxic prompts, to make sure all the attributions really attribute to the toxicity and\n",
    "# not a misclassification from the model and collect all word tuples into one list\n",
    "toxic_word_tuples = []\n",
    "for prompt, data in results.items():\n",
    "    if data[\"predicted_class_name\"].lower() == \"toxic\": \n",
    "        # Filter out start end and punctations\n",
    "        toxic_word_tuples.extend(\n",
    "            (word.lower(), score)\n",
    "            for word, score in data[\"word_attributions\"]\n",
    "            if word not in (\"<s>\", \"</s>\") and word not in string.punctuation\n",
    "        )"
   ]
  },
  {
   "cell_type": "code",
   "execution_count": 29,
   "metadata": {},
   "outputs": [
    {
     "data": {
      "image/png": "[encoded data removed]",
      "text/plain": [
       "<Figure size 1000x600 with 1 Axes>"
      ]
     },
     "metadata": {},
     "output_type": "display_data"
    }
   ],
   "source": [
    "scores = [score for _, score in toxic_word_tuples]\n",
    "\n",
    "plt.figure(figsize=(10, 6))\n",
    "plt.hist(scores, bins=10, edgecolor='black', alpha=0.7)\n",
    "plt.xlabel(\"Toxicity Scores\")\n",
    "plt.title(\"Distribution of Toxicity Scores\")\n",
    "plt.tight_layout()\n",
    "plt.show()"
   ]
  },
  {
   "cell_type": "code",
   "execution_count": 30,
   "metadata": {},
   "outputs": [],
   "source": [
    "filtered_words = [word for word, score in toxic_word_tuples if score > 0.1]\n"
   ]
  },
  {
   "cell_type": "code",
   "execution_count": 31,
   "metadata": {},
   "outputs": [
    {
     "data": {
      "text/plain": [
       "190"
      ]
     },
     "execution_count": 31,
     "metadata": {},
     "output_type": "execute_result"
    }
   ],
   "source": [
    "len(filtered_words)"
   ]
  },
  {
   "cell_type": "code",
   "execution_count": 32,
   "metadata": {},
   "outputs": [
    {
     "ename": "",
     "evalue": "",
     "output_type": "error",
     "traceback": [
      "\u001b[1;31mThe Kernel crashed while executing code in the current cell or a previous cell. \n",
      "\u001b[1;31mPlease review the code in the cell(s) to identify a possible cause of the failure. \n",
      "\u001b[1;31mClick <a href='https://aka.ms/vscodeJupyterKernelCrash'>here</a> for more info. \n",
      "\u001b[1;31mView Jupyter <a href='command:jupyter.viewOutput'>log</a> for further details."
     ]
    }
   ],
   "source": [
    "with open('highlighted_toxic_words_v2.txt', \"w\") as file:\n",
    "    for word in filtered_words:\n",
    "        file.write(word + \"\\n\")"
   ]
  }
 ],
 "metadata": {
  "kernelspec": {
   "display_name": "NLP",
   "language": "python",
   "name": "python3"
  },
  "language_info": {
   "codemirror_mode": {
    "name": "ipython",
    "version": 3
   },
   "file_extension": ".py",
   "mimetype": "text/x-python",
   "name": "python",
   "nbconvert_exporter": "python",
   "pygments_lexer": "ipython3",
   "version": "3.9.20"
  }
 },
 "nbformat": 4,
 "nbformat_minor": 4
}
